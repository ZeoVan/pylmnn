{
 "cells": [
  {
   "cell_type": "code",
   "execution_count": 1,
   "metadata": {
    "collapsed": true
   },
   "outputs": [],
   "source": [
    "import numpy as np\n",
    "import os\n",
    "from sklearn.neighbors import LargeMarginNearestNeighbor as LMNN\n",
    "from sklearn.datasets import load_iris, get_data_home\n",
    "from sklearn.model_selection import train_test_split"
   ]
  },
  {
   "cell_type": "code",
   "execution_count": 2,
   "metadata": {
    "collapsed": true
   },
   "outputs": [],
   "source": [
    "X, y = load_iris(return_X_y=True)"
   ]
  },
  {
   "cell_type": "code",
   "execution_count": 3,
   "metadata": {
    "collapsed": true
   },
   "outputs": [],
   "source": [
    "X_train, X_test, y_train, y_test = train_test_split(X, y, stratify=y, test_size=0.3, random_state=42)"
   ]
  },
  {
   "cell_type": "code",
   "execution_count": 4,
   "metadata": {
    "collapsed": true
   },
   "outputs": [],
   "source": [
    "model = LMNN(n_neighbors=3, random_state=42, verbose=103)"
   ]
  },
  {
   "cell_type": "code",
   "execution_count": 5,
   "metadata": {
    "collapsed": true
   },
   "outputs": [],
   "source": [
    "%load_ext memory_profiler"
   ]
  },
  {
   "cell_type": "code",
   "execution_count": 6,
   "metadata": {},
   "outputs": [
    {
     "name": "stdout",
     "output_type": "stream",
     "text": [
      "[LargeMarginNearestNeighbor] Finding principal components...\n",
      "[LargeMarginNearestNeighbor] Found principal components in  0.02s.\n",
      "[LargeMarginNearestNeighbor] Finding the target neighbors...\n",
      "[LargeMarginNearestNeighbor] Found the target neighbors in  0.01s.\n",
      "[LargeMarginNearestNeighbor] Computing static part of the gradient...\n",
      "[LargeMarginNearestNeighbor] Computed static part of the gradient in  0.00s.\n",
      "[LargeMarginNearestNeighbor]\n",
      "[LargeMarginNearestNeighbor]  Iteration      Objective Value     #Active Triplets    Time(s)\n",
      "[LargeMarginNearestNeighbor] ---------------------------------------------------------------\n",
      "[LargeMarginNearestNeighbor]          1         3.428306e+02                1,050       0.01\n",
      "[LargeMarginNearestNeighbor]          1         2.619373e+02                  271       0.01\n",
      "[LargeMarginNearestNeighbor]          2         2.505781e+02                  310       0.01\n",
      "[LargeMarginNearestNeighbor]          3         2.438642e+02                  419       0.01\n",
      "[LargeMarginNearestNeighbor]          4         2.416656e+02                  382       0.01\n",
      "[LargeMarginNearestNeighbor]          5         2.412973e+02                  380       0.01\n",
      "[LargeMarginNearestNeighbor]          6         2.403733e+02                  380       0.01\n",
      "[LargeMarginNearestNeighbor]          7         2.400795e+02                  379       0.01\n",
      "[LargeMarginNearestNeighbor]          8         2.396940e+02                  375       0.01\n",
      "[LargeMarginNearestNeighbor]          9         2.395438e+02                  379       0.01\n",
      "[LargeMarginNearestNeighbor]         10         2.394152e+02                  377       0.01\n",
      "[LargeMarginNearestNeighbor]         11         2.392911e+02                  379       0.02\n",
      "[LargeMarginNearestNeighbor]         12         2.392652e+02                  379       0.01\n",
      "[LargeMarginNearestNeighbor]         12         2.392249e+02                  377       0.01\n",
      "[LargeMarginNearestNeighbor]         13         2.392049e+02                  377       0.01\n",
      "[LargeMarginNearestNeighbor]         14         2.391988e+02                  378       0.01\n",
      "[LargeMarginNearestNeighbor]         15         2.391983e+02                  375       0.01\n",
      "[LargeMarginNearestNeighbor] Training took     0.22s.\n",
      "peak memory: 83.88 MiB, increment: 4.79 MiB\n"
     ]
    }
   ],
   "source": [
    "%memit model.fit(X_train, y_train)"
   ]
  },
  {
   "cell_type": "code",
   "execution_count": 7,
   "metadata": {
    "collapsed": true
   },
   "outputs": [],
   "source": [
    "from sklearn.neighbors import KNeighborsClassifier as KNN"
   ]
  },
  {
   "cell_type": "code",
   "execution_count": 8,
   "metadata": {},
   "outputs": [
    {
     "name": "stdout",
     "output_type": "stream",
     "text": [
      "LMNN accuracy on iris test set is 97.78%.\n"
     ]
    }
   ],
   "source": [
    "knn = KNN(n_neighbors=model.n_neighbors_)\n",
    "knn.fit(model.transform(X_train), y_train)\n",
    "test_acc = knn.score(model.transform(X_test), y_test)\n",
    "print('LMNN accuracy on iris test set is {:5.2f}%.'.format(100*test_acc))"
   ]
  },
  {
   "cell_type": "code",
   "execution_count": null,
   "metadata": {
    "collapsed": true
   },
   "outputs": [],
   "source": []
  }
 ],
 "metadata": {
  "kernelspec": {
   "display_name": "Python 3",
   "language": "python",
   "name": "python3"
  },
  "language_info": {
   "codemirror_mode": {
    "name": "ipython",
    "version": 3
   },
   "file_extension": ".py",
   "mimetype": "text/x-python",
   "name": "python",
   "nbconvert_exporter": "python",
   "pygments_lexer": "ipython3",
   "version": "3.6.1"
  }
 },
 "nbformat": 4,
 "nbformat_minor": 2
}
