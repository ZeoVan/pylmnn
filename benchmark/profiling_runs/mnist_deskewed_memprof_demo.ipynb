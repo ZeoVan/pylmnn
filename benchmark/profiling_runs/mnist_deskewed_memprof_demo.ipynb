{
 "cells": [
  {
   "cell_type": "code",
   "execution_count": 1,
   "metadata": {
    "collapsed": true
   },
   "outputs": [],
   "source": [
    "import numpy as np\n",
    "import os\n",
    "from scipy.io import loadmat\n",
    "from sklearn.datasets import get_data_home\n",
    "from sklearn.neighbors import LargeMarginNearestNeighbor as LMNN"
   ]
  },
  {
   "cell_type": "code",
   "execution_count": 2,
   "metadata": {},
   "outputs": [
    {
     "name": "stdout",
     "output_type": "stream",
     "text": [
      "Loaded deskewed MNIST from /work/chiotell/scikit_learn_data/mnist-deskewed-pca164.mat.\n"
     ]
    }
   ],
   "source": [
    "MNIST_DESKEWED_URL = 'https://www.dropbox.com/s/mhsnormwt5i2ba6/mnist-deskewed-pca164.mat?dl=1'\n",
    "MNIST_DESKEWED_PATH = os.path.join(get_data_home(), 'mnist-deskewed-pca164.mat')\n",
    "\n",
    "if not os.path.exists(MNIST_DESKEWED_PATH):\n",
    "    from urllib import request\n",
    "    print('Downloading deskewed MNIST from {} . . .'.format(MNIST_DESKEWED_URL), end='')\n",
    "    request.urlretrieve(MNIST_DESKEWED_URL, MNIST_DESKEWED_PATH)\n",
    "    print('done.')\n",
    "\n",
    "mnist_mat = loadmat(MNIST_DESKEWED_PATH)\n",
    "\n",
    "X_train = np.asarray(mnist_mat['X_train'], dtype=np.float64)\n",
    "X_test = np.asarray(mnist_mat['X_test'], dtype=np.float64)\n",
    "y_train = np.asarray(mnist_mat['y_train'], dtype=np.int).ravel()\n",
    "y_test = np.asarray(mnist_mat['y_test'], dtype=np.int).ravel()\n",
    "\n",
    "print('Loaded deskewed MNIST from {}.'.format(MNIST_DESKEWED_PATH))"
   ]
  },
  {
   "cell_type": "code",
   "execution_count": 3,
   "metadata": {
    "collapsed": true
   },
   "outputs": [],
   "source": [
    "%load_ext memory_profiler"
   ]
  },
  {
   "cell_type": "code",
   "execution_count": 4,
   "metadata": {
    "collapsed": true
   },
   "outputs": [],
   "source": [
    "lmnn = LMNN(n_neighbors=3, store_opt_result=True, random_state=42, verbose=1, max_iter=35, n_jobs=-1)"
   ]
  },
  {
   "cell_type": "code",
   "execution_count": 5,
   "metadata": {},
   "outputs": [
    {
     "name": "stdout",
     "output_type": "stream",
     "text": [
      "Finding principal components... done in  0.56s.\n",
      "Finding the target neighbors... done in 17.61s.\n",
      "Computing static part of the gradient... done.\n",
      "\n",
      " Iteration      Objective Value     #Active Triplets    Time(s)\n",
      "---------------------------------------------------------------\n",
      "         1         1.044149e+07              159,694      10.70\n",
      "         1         4.215748e+06              109,517      10.75\n",
      "         2         3.780318e+06               97,592      10.84\n",
      "         3         2.983284e+06               73,082      10.77\n",
      "         4         2.503140e+06               59,776      10.87\n",
      "         5         1.988418e+06               53,426      10.74\n",
      "         6         1.388322e+06               82,836      10.82\n",
      "         7         1.462584e+06              425,157      11.23\n",
      "         7         1.033541e+06              164,612      11.02\n",
      "         8         1.146788e+06              304,904      12.06\n",
      "         8         8.746367e+05              182,982      11.99\n",
      "         9         7.676013e+05              191,715      11.41\n",
      "        10         6.737639e+05              194,555      11.13\n",
      "        11         5.987832e+05              239,077      11.12\n",
      "        12         5.565810e+05              483,932      11.29\n",
      "        13         4.895806e+05              386,306      11.26\n",
      "        14         4.642738e+05              353,641      11.27\n",
      "        15         4.267829e+05              385,939      11.29\n",
      "        16         4.127230e+05              574,989      11.43\n",
      "        17         3.850727e+05              464,310      11.28\n",
      "        18         3.643748e+05              484,666      11.31\n",
      "        19         3.409089e+05              585,308      11.31\n",
      "        20         3.276634e+05              597,089      11.35\n",
      "        21         3.174949e+05              596,759      11.32\n",
      "        22         3.075501e+05              630,867      11.53\n",
      "        23         2.993676e+05              663,901      11.37\n",
      "        24         2.948753e+05              651,923      11.40\n",
      "        25         2.909022e+05              652,303      11.62\n",
      "        26         2.881544e+05              642,439      11.79\n",
      "        27         2.853442e+05              653,054      12.17\n",
      "        28         2.834854e+05              617,756      12.20\n",
      "        29         2.812094e+05              637,154      11.39\n",
      "        30         2.801054e+05              651,181      11.40\n",
      "        31         2.789024e+05              663,849      11.40\n",
      "        32         2.775878e+05              670,770      11.42\n",
      "        33         2.764538e+05              653,477      11.37\n",
      "        34         2.758151e+05              656,950      11.35\n",
      "        35         2.752956e+05              656,689      11.41\n",
      "        36         2.747007e+05              655,597      11.38\n",
      "        37         2.741981e+05              663,517      11.38\n",
      "Training took   471.68s.\n",
      "peak memory: 537.86 MiB, increment: 349.84 MiB\n"
     ]
    }
   ],
   "source": [
    "%memit lmnn.fit(X_train, y_train)"
   ]
  },
  {
   "cell_type": "code",
   "execution_count": 6,
   "metadata": {
    "collapsed": true
   },
   "outputs": [],
   "source": [
    "from sklearn.neighbors import KNeighborsClassifier as KNN"
   ]
  },
  {
   "cell_type": "code",
   "execution_count": 7,
   "metadata": {},
   "outputs": [
    {
     "name": "stdout",
     "output_type": "stream",
     "text": [
      "LMNN accuracy on MNIST test set is 98.63%.\n"
     ]
    }
   ],
   "source": [
    "knn = KNN(n_neighbors=lmnn.n_neighbors_, n_jobs=-1)\n",
    "knn.fit(lmnn.transform(X_train), y_train)\n",
    "test_acc = knn.score(lmnn.transform(X_test), y_test)\n",
    "print('LMNN accuracy on MNIST test set is {:5.2f}%.'.format(100*test_acc))"
   ]
  },
  {
   "cell_type": "code",
   "execution_count": 8,
   "metadata": {},
   "outputs": [
    {
     "name": "stdout",
     "output_type": "stream",
     "text": [
      "The optimizer finished after 36 iterations and made 40 function evaluations.\n"
     ]
    }
   ],
   "source": [
    "print('The optimizer finished after {} iterations and made {} function evaluations.'.format(lmnn.opt_result_.nit, lmnn.opt_result_.nfev))"
   ]
  },
  {
   "cell_type": "code",
   "execution_count": null,
   "metadata": {
    "collapsed": true
   },
   "outputs": [],
   "source": []
  }
 ],
 "metadata": {
  "kernelspec": {
   "display_name": "Python [default]",
   "language": "python",
   "name": "python3"
  },
  "language_info": {
   "codemirror_mode": {
    "name": "ipython",
    "version": 3
   },
   "file_extension": ".py",
   "mimetype": "text/x-python",
   "name": "python",
   "nbconvert_exporter": "python",
   "pygments_lexer": "ipython3",
   "version": "3.6.1"
  }
 },
 "nbformat": 4,
 "nbformat_minor": 2
}
