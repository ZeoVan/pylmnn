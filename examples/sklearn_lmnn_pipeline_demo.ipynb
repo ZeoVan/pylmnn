{
 "cells": [
  {
   "cell_type": "code",
   "execution_count": 1,
   "metadata": {
    "collapsed": true
   },
   "outputs": [],
   "source": [
    "import numpy as np\n",
    "from sklearn.pipeline import Pipeline\n",
    "from sklearn.neighbors import LargeMarginNearestNeighbor\n",
    "from sklearn.neighbors import KNeighborsClassifier\n",
    "from sklearn.datasets import load_iris, get_data_home\n",
    "from sklearn.model_selection import train_test_split"
   ]
  },
  {
   "cell_type": "code",
   "execution_count": 2,
   "metadata": {
    "collapsed": true
   },
   "outputs": [],
   "source": [
    "# Load and split dataset\n",
    "X, y = load_iris(return_X_y=True)\n",
    "X_train, X_test, y_train, y_test = train_test_split(X, y, stratify=y, test_size=0.3, random_state=42)"
   ]
  },
  {
   "cell_type": "code",
   "execution_count": 3,
   "metadata": {},
   "outputs": [
    {
     "name": "stdout",
     "output_type": "stream",
     "text": [
      "KNN accuracy on iris test set is 95.56%.\n"
     ]
    }
   ],
   "source": [
    "# Train and test with k-nearest neighbor classifier\n",
    "knn = KNeighborsClassifier(n_neighbors=3)\n",
    "knn.fit(X_train, y_train)\n",
    "test_acc = knn.score(X_test, y_test)\n",
    "print('KNN accuracy on iris test set is {:5.2f}%.'.format(100*test_acc))"
   ]
  },
  {
   "cell_type": "code",
   "execution_count": 4,
   "metadata": {},
   "outputs": [],
   "source": [
    "# Construct LMNN classifier with Pipeline\n",
    "lmnn = LargeMarginNearestNeighbor(n_neighbors=3, random_state=42)\n",
    "lmnn_clf = Pipeline([('lin_transform', lmnn), ('clf', KNeighborsClassifier(n_neighbors=3))])"
   ]
  },
  {
   "cell_type": "code",
   "execution_count": 5,
   "metadata": {},
   "outputs": [
    {
     "name": "stdout",
     "output_type": "stream",
     "text": [
      "LMNN accuracy on iris test set is 97.78%.\n"
     ]
    }
   ],
   "source": [
    "# Train and test with LMNN classifier\n",
    "lmnn_clf.fit(X_train, y_train)\n",
    "lmnn_acc = lmnn_clf.score(X_test, y_test)\n",
    "print('LMNN accuracy on iris test set is {:5.2f}%.'.format(100*lmnn_acc))"
   ]
  },
  {
   "cell_type": "code",
   "execution_count": 6,
   "metadata": {},
   "outputs": [
    {
     "name": "stdout",
     "output_type": "stream",
     "text": [
      "True\n"
     ]
    }
   ],
   "source": [
    "# Sanity Check\n",
    "pipe_probs = lmnn_clf.predict_proba(X_test)\n",
    "lmnn.fit(X_train, y_train)\n",
    "knn = KNeighborsClassifier(n_neighbors=3)\n",
    "knn.fit(lmnn.transform(X_train), y_train)\n",
    "seq_probs = knn.predict_proba(lmnn.transform(X_test))\n",
    "\n",
    "print(np.array_equal(pipe_probs, seq_probs))"
   ]
  },
  {
   "cell_type": "code",
   "execution_count": null,
   "metadata": {
    "collapsed": true
   },
   "outputs": [],
   "source": []
  }
 ],
 "metadata": {
  "kernelspec": {
   "display_name": "Python [default]",
   "language": "python",
   "name": "python3"
  },
  "language_info": {
   "codemirror_mode": {
    "name": "ipython",
    "version": 3
   },
   "file_extension": ".py",
   "mimetype": "text/x-python",
   "name": "python",
   "nbconvert_exporter": "python",
   "pygments_lexer": "ipython3",
   "version": "3.6.1"
  }
 },
 "nbformat": 4,
 "nbformat_minor": 2
}
